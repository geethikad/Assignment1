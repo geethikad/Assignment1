{
  "nbformat": 4,
  "nbformat_minor": 0,
  "metadata": {
    "colab": {
      "name": "Untitled3.ipynb",
      "provenance": [],
      "collapsed_sections": [],
      "authorship_tag": "ABX9TyOutFoG1dxsenF6tnsREUN2",
      "include_colab_link": true
    },
    "kernelspec": {
      "name": "python3",
      "display_name": "Python 3"
    },
    "language_info": {
      "name": "python"
    }
  },
  "cells": [
    {
      "cell_type": "markdown",
      "metadata": {
        "id": "view-in-github",
        "colab_type": "text"
      },
      "source": [
        "<a href=\"https://colab.research.google.com/github/geethikad/Assignment1/blob/main/Untitled3.ipynb\" target=\"_parent\"><img src=\"https://colab.research.google.com/assets/colab-badge.svg\" alt=\"Open In Colab\"/></a>"
      ]
    },
    {
      "cell_type": "code",
      "execution_count": 1,
      "metadata": {
        "id": "GBdsY3MKYSjj"
      },
      "outputs": [],
      "source": [
        "def email_validity(mail):\n",
        "  #to check if its valid\n",
        "  valid_mail=\"^[a-z]+@[a-z]+\\.[com|in]+\"\n",
        "  if re.search(valid_mail,mail):\n",
        "    return True\n",
        "  else:\n",
        "    print(\"Not a Valid mail id\")\n",
        "    return False"
      ]
    },
    {
      "cell_type": "code",
      "source": [
        "def password_validity(pwd):\n",
        "  pattern=re.compile(r'')\n",
        "  if len(pwd)<6 or len(pwd)>16:\n",
        "    print(\"Password length should be between 6 & 16\")\n",
        "  elif re.search(r'[!@#$%&]',pwd) is None:\n",
        "    print(\"Password should contain atleast one Special Character\")\n",
        "  elif re.search(r'[0-9]',pwd) is None:\n",
        "    print(\"Password should contain atleast one digit\")\n",
        "  elif re.search(r'[A-Z]',pwd) is None:\n",
        "    print(\"Password must have atleast one Uppercase letter\")\n",
        "  elif re.search(r'[a-z]',pwd) is None:\n",
        "    print(\"Password must contain atleast One Lowercase\")\n",
        "  elif re.match(r'[a-z A-Z 0-9 !@#$%&]{6,15}',pwd):\n",
        "    #print(\"Password is Valid\")\n",
        "    return True\n",
        "  else:\n",
        "    print(\"Password Error\")\n",
        "    return False\n",
        "\n"
      ],
      "metadata": {
        "id": "pC9jO-NjYTv-"
      },
      "execution_count": 2,
      "outputs": []
    },
    {
      "cell_type": "code",
      "source": [
        "\n",
        "def mail_input():\n",
        "  mail=input(\"Enter the mail id:\")\n",
        "  mail_obj=email_validity(mail)\n",
        "  \n",
        "  while (mail_obj!=True):\n",
        "    mail=input(\"Enter the mail id:\")\n",
        "    mail_obj=email_validity(mail)\n",
        "  return mail\n"
      ],
      "metadata": {
        "id": "MBxFvCKhYegD"
      },
      "execution_count": 3,
      "outputs": []
    },
    {
      "cell_type": "code",
      "source": [
        "\n",
        "def pwd_input():\n",
        "  pwd=input(\"Enter the password:\")\n",
        "  return pwd"
      ],
      "metadata": {
        "id": "Eo_dVRC_YrwU"
      },
      "execution_count": 4,
      "outputs": []
    },
    {
      "cell_type": "code",
      "source": [
        "def forgot_pwd(df):\n",
        "  mail=mail_input()\n",
        "  index=list(df.Email).index(mail)\n",
        "  org_pass=df.Password[index]\n",
        "  print(\"Your Password is : \",org_pass)"
      ],
      "metadata": {
        "id": "XMoepJT9Ys7b"
      },
      "execution_count": 5,
      "outputs": []
    },
    {
      "cell_type": "code",
      "source": [
        "def signup(df):\n",
        "  mail=mail_input()\n",
        "  \n",
        "  if mail in df.Email.values:\n",
        "    print(\"Your mail is already registered try login\")\n",
        "    login(df)\n",
        "    \n",
        "  else:\n",
        "    pwd_obj=False\n",
        "    while pwd_obj!=True:\n",
        "      pwd=pwd_input()  \n",
        "      pwd_obj=password_validity(pwd)\n",
        "    \n",
        "    if pwd_obj==True:\n",
        "      df_2_add=pd.DataFrame({\"Email\":[mail],\"Password\":[pwd]})\n",
        "      df=df_2_add.to_csv('/logingeethika.csv', mode='a', index=False, header=False)\n",
        "      print(\"You are Registered\")\n"
      ],
      "metadata": {
        "id": "IEHnUkwqYx2l"
      },
      "execution_count": 10,
      "outputs": []
    },
    {
      "cell_type": "code",
      "source": [
        "def login(df):\n",
        "  mail=mail_input()\n",
        "  \n",
        "\n",
        "  if mail not in df.Email.values:\n",
        "    print(\"Not Registered, Try Signup new\")\n",
        "    signup(df)\n",
        "  elif mail in df.Email.values:\n",
        "    pwd=pwd_input()\n",
        "    index=list(df.Email).index(mail)\n",
        "    org_pass=df.Password[index]\n",
        "    while pwd!=org_pass:\n",
        "      print(\"Wrong Password Try Again\")\n",
        "      pwd=pwd_input()\n",
        "    print(\"Access Granted\")\n",
        "    "
      ],
      "metadata": {
        "id": "Wv8tBPpnY7Tw"
      },
      "execution_count": 11,
      "outputs": []
    },
    {
      "cell_type": "code",
      "source": [
        "def mainn(df):\n",
        "  a=input(\"Enter 1 for Login   Enter 2 for Signup  Enter 3 for Forgot Password\")\n",
        "  if a=='1':\n",
        "    login(df)\n",
        "    return True\n",
        "  elif a=='2':\n",
        "    signup(df)\n",
        "    return True\n",
        "  elif a=='3':\n",
        "    forgot_pwd(df)\n",
        "    return True\n",
        "  else:\n",
        "    print(\"Give a Valid input\")\n",
        "    return False"
      ],
      "metadata": {
        "id": "x1bXgK4VY_mI"
      },
      "execution_count": 12,
      "outputs": []
    },
    {
      "cell_type": "code",
      "source": [
        "import pandas as pd\n",
        "import re\n",
        "\n",
        "df=pd.read_csv(\"/logingeethika.csv\")\n",
        "flag=mainn(df)\n",
        "while flag != True:\n",
        "  flag=mainn(df)"
      ],
      "metadata": {
        "id": "84DT6mauZIKO",
        "colab": {
          "base_uri": "https://localhost:8080/"
        },
        "outputId": "713ce2a4-50e4-41c0-9313-b07d99aa3ab9"
      },
      "execution_count": 13,
      "outputs": [
        {
          "output_type": "stream",
          "name": "stdout",
          "text": [
            "Enter 1 for Login   Enter 2 for Signup  Enter 3 for Forgot Password2\n",
            "Enter the mail id:geethikadevireddy@gmail.com\n",
            "Enter the password:Geethu@3333\n",
            "You are Registered\n"
          ]
        }
      ]
    },
    {
      "cell_type": "code",
      "source": [
        ""
      ],
      "metadata": {
        "id": "ePzipLa6ZIyk"
      },
      "execution_count": null,
      "outputs": []
    }
  ]
}
